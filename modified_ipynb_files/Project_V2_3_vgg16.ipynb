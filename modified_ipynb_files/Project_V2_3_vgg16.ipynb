from google.colab import drive
drive.mount('/content/drive')

import tensorflow as tf
from tensorflow.keras.applications import MobileNet
from tensorflow.keras.preprocessing.image import ImageDataGenerator
from sklearn.metrics import roc_curve, auc
from tensorflow.keras.metrics import Precision, Recall
from sklearn.preprocessing import label_binarize
import matplotlib.pyplot as plt
import numpy as np

# Define the paths for the training and testing datasets
train_dir = '/content/drive/MyDrive/cotton/TRAIN'
test_dir = '/content/drive/MyDrive/cotton/TEST'

# Define the image size and batch size
img_size = (224, 224)
batch_size = 32
ep=29

# Create an image data generator for the training set
train_datagen = ImageDataGenerator(rescale=1./255)
train_generator = train_datagen.flow_from_directory(
    train_dir,
    target_size=img_size,
    batch_size=batch_size,
    class_mode='categorical')

# Create an image data generator for the test set
test_datagen = ImageDataGenerator(rescale=1./255)
test_generator = test_datagen.flow_from_directory(
    test_dir,
    target_size=img_size,
    batch_size=batch_size,
    class_mode='categorical',
    shuffle=False)



# Load the pre-trained VGG16 model
base_model_vgg16 = VGG16(weights='imagenet', include_top=False, input_shape=img_size + (3,))

for layer in base_model_vgg16.layers:
  layer.trainable = False

# Add a global spatial average pooling layer
x_vgg16 = base_model_vgg16.output
x_vgg16 = tf.keras.layers.GlobalAveragePooling2D()(x_vgg16)

# Add a fully-connected layer
x_vgg16 = tf.keras.layers.Dense(1024, activation='relu')(x_vgg16)

# Add a logistic layer with the number of classes
predictions_vgg16 = tf.keras.layers.Dense(4, activation='softmax')(x_vgg16)

# Create the VGG16 model
model = tf.keras.models.Model(inputs=base_model_vgg16.input, outputs=predictions_vgg16)

model.summary()

# Compile the VGG16 model
model.compile(optimizer='adam', loss='categorical_crossentropy', metrics=['accuracy', Precision(), Recall()])


# Train the model
r=model.fit(train_generator,validation_data=test_generator, epochs=ep,  steps_per_epoch=len(train_generator),
  validation_steps=len(test_generator))






from sklearn.metrics import roc_curve, auc
from sklearn.preprocessing import label_binarize
import matplotlib.pyplot as plt

# Assuming you have defined y_pred, y_test_bin, fpr, tpr, and roc_auc as in your code
y_pred = model.predict(test_generator)
y_test = test_generator.classes
y_test_bin = label_binarize(y_test, classes=[0, 1, 2, 3])

# Compute ROC curve and ROC area for each class
fpr = dict()
tpr = dict()
roc_auc = dict()
for i in range(4):
    fpr[i], tpr[i], _ = roc_curve(y_test_bin[:, i], y_pred[:, i])
    roc_auc[i] = auc(fpr[i], tpr[i])

# Define disease names
disease_names = ['Bacterial Blight', 'Curl Virus', 'Fissarium Wilt', 'Healthy']

# Plot the ROC curves with disease names
plt.figure(figsize=(8, 6))  # Adjust the figure size as needed

line_widths = [1,1,1,1]  # Define line widths for each class

for i in range(4):
    plt.plot(fpr[i], tpr[i], linewidth=line_widths[i],
             label='ROC curve of {0} vs Rest (area = {1:0.2f})'.format(disease_names[i], roc_auc[i]))

plt.plot([0, 1], [0, 1], 'k--')
plt.xlim([-0.05, 1.05])  # Set x-axis limits with a slight padding
plt.ylim([-0.05, 1.05])  # Set y-axis limits with a slight padding
plt.xlabel('False Positive Rate')
plt.ylabel('True Positive Rate')
plt.title('Receiver Operating Characteristic (ROC) Curve for VGG16')
plt.legend(loc="lower right")

# Adjust the plot dimensions and add padding to the inner part
plt.tight_layout(pad=2.0)  # Adjust the padding value as needed

plt.show()



from sklearn.metrics import confusion_matrix
import matplotlib.pyplot as plt
import seaborn as sns
import numpy as np

# Assuming you have defined y_pred, y_test_bin, disease_names as in your code snippet
# y_pred = ...
# y_test_bin = ...
# disease_names = ...

# Get the predicted classes from probabilities
y_pred_classes = np.argmax(y_pred, axis=1)

# Compute the confusion matrix
conf_matrix = confusion_matrix(y_test, y_pred_classes)

# Plot the confusion matrix
plt.figure(figsize=(8 , 6))
sns.heatmap(conf_matrix, annot=True, fmt='d', cmap='Blues', cbar=False)

# Set axis labels and title
plt.xlabel('Predicted Class')
plt.ylabel('True Class')
plt.title('Confusion Matrix for VGG16')

# Set tick labels
tick_labels = [f'{disease_names[i]}\n({i})' for i in range(len(disease_names))]
plt.xticks(np.arange(len(disease_names)), tick_labels)
plt.yticks(np.arange(len(disease_names)), tick_labels)

# Show the plot
plt.show()



def plot_learningCurve(history, epoch):
# Plot training & validation accuracy values
  epoch_range = range(1, epoch+1)
  plt.plot(epoch_range, history.history['accuracy'])
  plt.plot(epoch_range, history.history['val_accuracy'])
  plt.title('VGG16 Accuracy')
  plt.ylabel('Accuracy')
  plt.xlabel('Epoch')
  plt.legend(['Train', 'Val'], loc='upper left')
  plt.show()
#Plot training & validation Loss values
  plt.plot(epoch_range, history.history['loss'])
  plt.plot(epoch_range, history.history['val_loss'])
  plt.title('VGG16 Loss')
  plt.ylabel('Loss')
  plt.xlabel('Epoch')
  plt.legend(['Train', 'val'], loc='upper left')
  plt.show()


model.save('/content/drive/MyDrive/Models/vgg16_bs32_ep29.h5')

